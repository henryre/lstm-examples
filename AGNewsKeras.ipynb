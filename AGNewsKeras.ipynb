{
 "cells": [
  {
   "cell_type": "code",
   "execution_count": 1,
   "metadata": {
    "collapsed": true
   },
   "outputs": [],
   "source": [
    "%load_ext autoreload \n",
    "%autoreload 2\n",
    "\n",
    "import numpy as np\n",
    "\n",
    "from lstm_examples import util\n",
    "\n",
    "np.random.seed(1701)"
   ]
  },
  {
   "cell_type": "markdown",
   "metadata": {},
   "source": [
    "# Loading data"
   ]
  },
  {
   "cell_type": "code",
   "execution_count": 2,
   "metadata": {
    "collapsed": true
   },
   "outputs": [],
   "source": [
    "# Load data from CSV file\n",
    "n_classes = 4\n",
    "text, y = util.read_data('data/train.csv')"
   ]
  },
  {
   "cell_type": "code",
   "execution_count": 3,
   "metadata": {
    "collapsed": true
   },
   "outputs": [],
   "source": [
    "# Shuffle sentences\n",
    "shuffle_idx = np.random.permutation(len(text))\n",
    "text = [text[i] for i in shuffle_idx]\n",
    "y = y[shuffle_idx]\n",
    "\n",
    "# Train and test split (just take a thousand for speed)\n",
    "n_train, n_test = 1000, 500\n",
    "text_train = text[:n_train]\n",
    "text_test = text[n_train : n_train+n_test]\n",
    "y_train = y[:n_train]\n",
    "y_test = y[n_train : n_train+n_test]"
   ]
  },
  {
   "cell_type": "code",
   "execution_count": 4,
   "metadata": {},
   "outputs": [
    {
     "name": "stdout",
     "output_type": "stream",
     "text": [
      "AFP - How to create sustainable employment for impoverished, mostly illiterate African populations residing primarily in rural areas is the challenge the African Union aims to tackle at a summit opening Wednesday in Burkina Faso.\n",
      "\n",
      "Class:  0\n"
     ]
    }
   ],
   "source": [
    "print(text_train[0])\n",
    "print(\"\\nClass: \", y_train[0])"
   ]
  },
  {
   "cell_type": "markdown",
   "metadata": {},
   "source": [
    "# Text processing with spaCy"
   ]
  },
  {
   "cell_type": "code",
   "execution_count": 5,
   "metadata": {
    "collapsed": true
   },
   "outputs": [],
   "source": [
    "import spacy\n",
    "\n",
    "nlp = spacy.load('en')"
   ]
  },
  {
   "cell_type": "code",
   "execution_count": 6,
   "metadata": {
    "collapsed": true
   },
   "outputs": [],
   "source": [
    "# Parse all text\n",
    "text_train_parsed = [nlp(s) for s in text_train]\n",
    "text_test_parsed = [nlp(s) for s in text_test]"
   ]
  },
  {
   "cell_type": "code",
   "execution_count": 7,
   "metadata": {
    "collapsed": true
   },
   "outputs": [],
   "source": [
    "# Convert text to integer symbols\n",
    "symbol_table = util.SymbolTable()\n",
    "\n",
    "def preprocess_text(parsed_text, symbol_table, init=True):\n",
    "    mapper = symbol_table.lookup_add if init else symbol_table.lookup\n",
    "    return [[mapper(w.text.strip().lower()) for s in t.sents for w in s] for t in parsed_text]"
   ]
  },
  {
   "cell_type": "code",
   "execution_count": 8,
   "metadata": {
    "collapsed": true
   },
   "outputs": [],
   "source": [
    "symbols_train = preprocess_text(text_train_parsed, symbol_table, True)\n",
    "symbols_test = preprocess_text(text_test_parsed, symbol_table, False)"
   ]
  },
  {
   "cell_type": "code",
   "execution_count": 9,
   "metadata": {},
   "outputs": [
    {
     "name": "stdout",
     "output_type": "stream",
     "text": [
      "Congress is now poised to hand President Bush an election-year tax cut victory\n",
      "[1541, 21, 264, 1454, 5, 1542, 150, 882, 555, 1543, 3, 683, 1544, 1277, 1209]\n",
      "\n",
      "Class:  2\n"
     ]
    }
   ],
   "source": [
    "print(text_train_parsed[100][:15])\n",
    "print(symbols_train[100][:15])\n",
    "print(\"\\nClass: \", y_train[100])"
   ]
  },
  {
   "cell_type": "markdown",
   "metadata": {},
   "source": [
    "# Converting to matrix format"
   ]
  },
  {
   "cell_type": "code",
   "execution_count": 10,
   "metadata": {},
   "outputs": [
    {
     "name": "stderr",
     "output_type": "stream",
     "text": [
      "Using TensorFlow backend.\n"
     ]
    }
   ],
   "source": [
    "from keras.preprocessing import sequence\n",
    "\n",
    "MAX_LENGTH = 50\n",
    "\n",
    "x_train = sequence.pad_sequences(symbols_train, maxlen=MAX_LENGTH)\n",
    "x_test = sequence.pad_sequences(symbols_test, maxlen=MAX_LENGTH)"
   ]
  },
  {
   "cell_type": "markdown",
   "metadata": {},
   "source": [
    "# Building the graph"
   ]
  },
  {
   "cell_type": "code",
   "execution_count": 14,
   "metadata": {
    "collapsed": true
   },
   "outputs": [],
   "source": [
    "from keras.models import Sequential\n",
    "from keras.layers import Dense\n",
    "from keras.layers import Embedding\n",
    "from keras.layers import LSTM\n",
    "from keras.optimizers import Adam\n",
    "\n",
    "d = 100\n",
    "\n",
    "model = Sequential()\n",
    "model.add(Embedding(symbol_table.num_symbols(), output_dim=d))\n",
    "model.add(LSTM(d))\n",
    "model.add(Dense(n_classes, activation='softmax'))\n",
    "\n",
    "model.compile(loss='sparse_categorical_crossentropy',\n",
    "              optimizer=Adam(lr=0.0005),\n",
    "              metrics=['accuracy'])"
   ]
  },
  {
   "cell_type": "markdown",
   "metadata": {},
   "source": [
    "# Train!"
   ]
  },
  {
   "cell_type": "code",
   "execution_count": 15,
   "metadata": {},
   "outputs": [
    {
     "name": "stdout",
     "output_type": "stream",
     "text": [
      "Train on 1000 samples, validate on 500 samples\n",
      "Epoch 1/20\n",
      "1000/1000 [==============================] - 2s - loss: 1.3850 - acc: 0.2580 - val_loss: 1.3799 - val_acc: 0.3100\n",
      "Epoch 2/20\n",
      "1000/1000 [==============================] - 1s - loss: 1.3396 - acc: 0.4540 - val_loss: 1.5264 - val_acc: 0.3000\n",
      "Epoch 3/20\n",
      "1000/1000 [==============================] - 1s - loss: 1.0583 - acc: 0.5610 - val_loss: 1.1423 - val_acc: 0.4640\n",
      "Epoch 4/20\n",
      "1000/1000 [==============================] - 1s - loss: 0.4806 - acc: 0.8600 - val_loss: 0.9887 - val_acc: 0.6240\n",
      "Epoch 5/20\n",
      "1000/1000 [==============================] - 1s - loss: 0.1951 - acc: 0.9500 - val_loss: 0.9414 - val_acc: 0.6840\n",
      "Epoch 6/20\n",
      "1000/1000 [==============================] - 1s - loss: 0.0969 - acc: 0.9820 - val_loss: 1.1306 - val_acc: 0.6600\n",
      "Epoch 7/20\n",
      "1000/1000 [==============================] - 1s - loss: 0.1073 - acc: 0.9780 - val_loss: 0.8944 - val_acc: 0.7040\n",
      "Epoch 8/20\n",
      "1000/1000 [==============================] - 1s - loss: 0.0475 - acc: 0.9960 - val_loss: 1.8563 - val_acc: 0.5840\n",
      "Epoch 9/20\n",
      "1000/1000 [==============================] - 1s - loss: 0.2020 - acc: 0.9590 - val_loss: 1.1209 - val_acc: 0.6620\n",
      "Epoch 10/20\n",
      "1000/1000 [==============================] - 1s - loss: 0.0412 - acc: 0.9930 - val_loss: 1.1461 - val_acc: 0.6840\n",
      "Epoch 11/20\n",
      "1000/1000 [==============================] - 1s - loss: 0.0261 - acc: 0.9960 - val_loss: 1.1497 - val_acc: 0.6880\n",
      "Epoch 12/20\n",
      "1000/1000 [==============================] - 1s - loss: 0.0073 - acc: 1.0000 - val_loss: 1.2634 - val_acc: 0.6920\n",
      "Epoch 13/20\n",
      "1000/1000 [==============================] - 1s - loss: 0.0043 - acc: 1.0000 - val_loss: 1.4830 - val_acc: 0.6780\n",
      "Epoch 14/20\n",
      "1000/1000 [==============================] - 1s - loss: 0.0033 - acc: 1.0000 - val_loss: 1.5951 - val_acc: 0.6680\n",
      "Epoch 15/20\n",
      "1000/1000 [==============================] - 1s - loss: 0.0027 - acc: 1.0000 - val_loss: 1.6595 - val_acc: 0.6620\n",
      "Epoch 16/20\n",
      "1000/1000 [==============================] - 1s - loss: 0.0022 - acc: 1.0000 - val_loss: 1.8335 - val_acc: 0.6320\n",
      "Epoch 17/20\n",
      "1000/1000 [==============================] - 1s - loss: 0.0019 - acc: 1.0000 - val_loss: 1.8731 - val_acc: 0.6320\n",
      "Epoch 18/20\n",
      "1000/1000 [==============================] - 1s - loss: 0.0016 - acc: 1.0000 - val_loss: 1.9152 - val_acc: 0.6380\n",
      "Epoch 19/20\n",
      "1000/1000 [==============================] - 1s - loss: 0.0015 - acc: 1.0000 - val_loss: 1.9564 - val_acc: 0.6400\n",
      "Epoch 20/20\n",
      "1000/1000 [==============================] - 1s - loss: 0.0013 - acc: 1.0000 - val_loss: 2.0088 - val_acc: 0.6280\n"
     ]
    },
    {
     "data": {
      "text/plain": [
       "<keras.callbacks.History at 0x7fcbca413828>"
      ]
     },
     "execution_count": 15,
     "metadata": {},
     "output_type": "execute_result"
    }
   ],
   "source": [
    "model.fit(x_train, y_train, validation_data=(x_test, y_test), batch_size=32, epochs=20)"
   ]
  },
  {
   "cell_type": "code",
   "execution_count": null,
   "metadata": {
    "collapsed": true
   },
   "outputs": [],
   "source": []
  }
 ],
 "metadata": {
  "kernelspec": {
   "display_name": "Python 3",
   "language": "python",
   "name": "python3"
  },
  "language_info": {
   "codemirror_mode": {
    "name": "ipython",
    "version": 3
   },
   "file_extension": ".py",
   "mimetype": "text/x-python",
   "name": "python",
   "nbconvert_exporter": "python",
   "pygments_lexer": "ipython3",
   "version": "3.6.1"
  }
 },
 "nbformat": 4,
 "nbformat_minor": 2
}
