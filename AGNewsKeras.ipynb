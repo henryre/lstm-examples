{
 "cells": [
  {
   "cell_type": "code",
   "execution_count": null,
   "metadata": {
    "collapsed": true
   },
   "outputs": [],
   "source": [
    "%load_ext autoreload \n",
    "%autoreload 2\n",
    "\n",
    "import numpy as np\n",
    "\n",
    "from lstm_examples import util\n",
    "\n",
    "np.random.seed(1701)"
   ]
  },
  {
   "cell_type": "markdown",
   "metadata": {},
   "source": [
    "# Loading data"
   ]
  },
  {
   "cell_type": "code",
   "execution_count": null,
   "metadata": {
    "collapsed": true
   },
   "outputs": [],
   "source": [
    "# Load data from CSV file\n",
    "n_classes = 4\n",
    "text, y = util.read_data('data/train.csv')"
   ]
  },
  {
   "cell_type": "code",
   "execution_count": null,
   "metadata": {
    "collapsed": true
   },
   "outputs": [],
   "source": [
    "# Shuffle sentences\n",
    "shuffle_idx = np.random.permutation(len(text))\n",
    "text = [text[i] for i in shuffle_idx]\n",
    "y = y[shuffle_idx]\n",
    "\n",
    "# Train and test split (just take a thousand for speed)\n",
    "n_train, n_test = 1000, 500\n",
    "text_train = text[:n_train]\n",
    "text_test = text[n_train : n_train+n_test]\n",
    "y_train = y[:n_train]\n",
    "y_test = y[n_train : n_train+n_test]"
   ]
  },
  {
   "cell_type": "code",
   "execution_count": null,
   "metadata": {},
   "outputs": [],
   "source": [
    "print(text_train[0])\n",
    "print(\"\\nClass: \", y_train[0])"
   ]
  },
  {
   "cell_type": "markdown",
   "metadata": {},
   "source": [
    "# Text processing with spaCy"
   ]
  },
  {
   "cell_type": "code",
   "execution_count": null,
   "metadata": {
    "collapsed": true
   },
   "outputs": [],
   "source": [
    "import spacy\n",
    "\n",
    "nlp = spacy.load('en')"
   ]
  },
  {
   "cell_type": "code",
   "execution_count": null,
   "metadata": {
    "collapsed": true
   },
   "outputs": [],
   "source": [
    "# Parse all text\n",
    "text_train_parsed = [nlp(s) for s in text_train]\n",
    "text_test_parsed = [nlp(s) for s in text_test]"
   ]
  },
  {
   "cell_type": "code",
   "execution_count": null,
   "metadata": {
    "collapsed": true
   },
   "outputs": [],
   "source": [
    "# Convert text to integer symbols\n",
    "symbol_table = util.SymbolTable()\n",
    "\n",
    "def preprocess_text(parsed_text, symbol_table, init=True):\n",
    "    mapper = symbol_table.lookup_add if init else symbol_table.lookup\n",
    "    return [[mapper(w.text.strip().lower()) for s in t.sents for w in s] for t in parsed_text]"
   ]
  },
  {
   "cell_type": "code",
   "execution_count": null,
   "metadata": {
    "collapsed": true
   },
   "outputs": [],
   "source": [
    "symbols_train = preprocess_text(text_train_parsed, symbol_table, True)\n",
    "symbols_test = preprocess_text(text_test_parsed, symbol_table, False)"
   ]
  },
  {
   "cell_type": "code",
   "execution_count": null,
   "metadata": {},
   "outputs": [],
   "source": [
    "print(text_train_parsed[100][:15])\n",
    "print(symbols_train[100][:15])\n",
    "print(\"\\nClass: \", y_train[100])"
   ]
  },
  {
   "cell_type": "markdown",
   "metadata": {},
   "source": [
    "# Converting to matrix format"
   ]
  },
  {
   "cell_type": "code",
   "execution_count": null,
   "metadata": {},
   "outputs": [],
   "source": [
    "from keras.preprocessing import sequence\n",
    "\n",
    "MAX_LENGTH = 50\n",
    "\n",
    "x_train = sequence.pad_sequences(symbols_train, maxlen=MAX_LENGTH)\n",
    "x_test = sequence.pad_sequences(symbols_test, maxlen=MAX_LENGTH)"
   ]
  },
  {
   "cell_type": "markdown",
   "metadata": {},
   "source": [
    "# Building the graph"
   ]
  },
  {
   "cell_type": "code",
   "execution_count": null,
   "metadata": {},
   "outputs": [],
   "source": [
    "from keras.models import Sequential\n",
    "from keras.layers import Dense\n",
    "from keras.layers import Embedding\n",
    "from keras.layers import LSTM\n",
    "from keras.optimizers import Adam\n",
    "\n",
    "d = 100\n",
    "\n",
    "model = Sequential()\n",
    "model.add(Embedding(symbol_table.num_symbols(), output_dim=d))\n",
    "model.add(LSTM(d))\n",
    "model.add(Dense(n_classes, activation='softmax'))\n",
    "\n",
    "model.compile(loss='sparse_categorical_crossentropy',\n",
    "              optimizer=Adam(lr=0.0005),\n",
    "              metrics=['accuracy'])"
   ]
  },
  {
   "cell_type": "markdown",
   "metadata": {},
   "source": [
    "# Train!"
   ]
  },
  {
   "cell_type": "code",
   "execution_count": null,
   "metadata": {},
   "outputs": [],
   "source": [
    "model.fit(x_train, y_train, validation_data=(x_test, y_test), batch_size=32, epochs=20)"
   ]
  }
 ],
 "metadata": {
  "kernelspec": {
   "display_name": "Python 3",
   "language": "python",
   "name": "python3"
  },
  "language_info": {
   "codemirror_mode": {
    "name": "ipython",
    "version": 3
   },
   "file_extension": ".py",
   "mimetype": "text/x-python",
   "name": "python",
   "nbconvert_exporter": "python",
   "pygments_lexer": "ipython3",
   "version": "3.6.1"
  }
 },
 "nbformat": 4,
 "nbformat_minor": 2
}
